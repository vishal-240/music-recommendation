{
 "cells": [
  {
   "cell_type": "code",
   "execution_count": 11,
   "id": "f0bf26b1-c771-4b0c-9f6d-e6e4502146e8",
   "metadata": {},
   "outputs": [],
   "source": [
    "import pandas as pd\n",
    "from sklearn.tree import DecisionTreeClassifier\n",
    "from sklearn import tree\n",
    "\n",
    "#import data set\n",
    "music_data = pd.read_csv('music.csv')\n",
    "X = music_data.drop(columns='genre')  #input\n",
    "y = music_data['genre']  #output\n",
    "\n",
    "#create a model\n",
    "model = DecisionTreeClassifier()\n",
    "#training the model\n",
    "model.fit(X,y)\n",
    "\n",
    "tree.export_graphviz(model,out_file='music-recommender.dot',feature_names=['age','gender'],class_names=sorted(y.unique()),label='all',rounded=True,filled=True)\n"
   ]
  }
 ],
 "metadata": {
  "kernelspec": {
   "display_name": "Python 3 (ipykernel)",
   "language": "python",
   "name": "python3"
  },
  "language_info": {
   "codemirror_mode": {
    "name": "ipython",
    "version": 3
   },
   "file_extension": ".py",
   "mimetype": "text/x-python",
   "name": "python",
   "nbconvert_exporter": "python",
   "pygments_lexer": "ipython3",
   "version": "3.12.7"
  }
 },
 "nbformat": 4,
 "nbformat_minor": 5
}
