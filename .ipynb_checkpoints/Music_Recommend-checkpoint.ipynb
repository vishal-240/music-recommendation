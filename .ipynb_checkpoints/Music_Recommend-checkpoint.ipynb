{
 "cells": [
  {
   "cell_type": "code",
   "execution_count": 9,
   "id": "f0bf26b1-c771-4b0c-9f6d-e6e4502146e8",
   "metadata": {},
   "outputs": [
    {
     "data": {
      "text/plain": [
       "['music-recommender.joblib']"
      ]
     },
     "execution_count": 9,
     "metadata": {},
     "output_type": "execute_result"
    }
   ],
   "source": [
    "import pandas as pd\n",
    "from sklearn.tree import DecisionTreeClassifier\n",
    "import joblib  #joblib is for saving and loading the model\n",
    "\n",
    "#import data set\n",
    "music_data = pd.read_csv('music.csv')\n",
    "X = music_data.drop(columns='genre')\n",
    "y = music_data['genre']\n",
    "\n",
    "#create a model\n",
    "#model = DecisionTreeClassifier()\n",
    "#training the model\n",
    "#model.fit(X,y)\n",
    "\n",
    "#saving the model into a file\n",
    "#joblib.dump(model,'music-recommender.joblib')\n",
    "\n",
    "#loading the joblib model file\n",
    "model = joblib.load('music-recommender.joblib')\n",
    "\n",
    "#asking the model to make predictions\n",
    "predictions = model.predict([[21,1]])\n",
    "predictions"
   ]
  }
 ],
 "metadata": {
  "kernelspec": {
   "display_name": "Python 3 (ipykernel)",
   "language": "python",
   "name": "python3"
  },
  "language_info": {
   "codemirror_mode": {
    "name": "ipython",
    "version": 3
   },
   "file_extension": ".py",
   "mimetype": "text/x-python",
   "name": "python",
   "nbconvert_exporter": "python",
   "pygments_lexer": "ipython3",
   "version": "3.12.7"
  }
 },
 "nbformat": 4,
 "nbformat_minor": 5
}
